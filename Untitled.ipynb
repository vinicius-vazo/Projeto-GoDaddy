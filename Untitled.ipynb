{
 "cells": [
  {
   "cell_type": "code",
   "execution_count": null,
   "id": "9243a774",
   "metadata": {},
   "outputs": [],
   "source": [
    "import pandas as pd\n",
    "import os\n",
    "from pandas_datareader import data as pdr\n",
    "import numpy as np\n",
    "import matplotlib as plt\n",
    "import matplotlib.dates as mdate\n",
    "diretorio_atual = os.getcwd()\n",
    "os.chdir(diretorio_atual)"
   ]
  },
  {
   "cell_type": "code",
   "execution_count": null,
   "id": "1c363bbb",
   "metadata": {},
   "outputs": [],
   "source": [
    "# Leitura do arquivo csv\n",
    "dados = pd.read_csv('train.csv', encoding = 'ISO-8859-1', decimal =',')\n",
    "dados"
   ]
  },
  {
   "cell_type": "code",
   "execution_count": null,
   "id": "776d378e",
   "metadata": {},
   "outputs": [],
   "source": [
    "# Validação do tipo de arquivo csv\n",
    "df = pd.read_csv('train.csv')\n",
    "\n",
    "if type(df) == pd.DataFrame:\n",
    "    print(\"É um DataFrame\")\n",
    "else:\n",
    "    print(\"Não é um DataFrame\")"
   ]
  },
  {
   "cell_type": "code",
   "execution_count": null,
   "id": "a7471b81",
   "metadata": {},
   "outputs": [],
   "source": [
    "# Tipos de dados das colunas\n",
    "dados.dtypes"
   ]
  },
  {
   "cell_type": "code",
   "execution_count": null,
   "id": "c30627d0",
   "metadata": {},
   "outputs": [],
   "source": [
    "# conversão dos dados da coluna 'first_day_of_month' em data\n",
    "dados['first_day_of_month'] = pd.to_datetime(dados['first_day_of_month'],infer_datetime_format=True)\n",
    "dados.dtypes"
   ]
  },
  {
   "cell_type": "code",
   "execution_count": null,
   "id": "902fa8da",
   "metadata": {},
   "outputs": [],
   "source": [
    "# transformar a coluna 'first_day_of_month' em indice\n",
    "dados = dados.set_index('first_day_of_month')\n",
    "dados"
   ]
  },
  {
   "cell_type": "code",
   "execution_count": null,
   "id": "4394e3d2",
   "metadata": {},
   "outputs": [],
   "source": [
    "# excluindo as colunas 'row_id' e 'cfips' do dataframe\n",
    "dados = dados.drop(['row_id', 'cfips'], axis=1)\n",
    "dados"
   ]
  },
  {
   "cell_type": "code",
   "execution_count": null,
   "id": "60d683e3",
   "metadata": {},
   "outputs": [],
   "source": [
    "# Limpeza dos dados dos condados\n",
    "dados['county'] = dados['county'].apply(lambda x: x.replace(' County',''))\n",
    "dados"
   ]
  },
  {
   "cell_type": "code",
   "execution_count": null,
   "id": "7493f8a7",
   "metadata": {},
   "outputs": [],
   "source": [
    "# Filtro dataframe para o estado do Alabama somente\n",
    "df_alabama = dados.query(\"state == 'Alabama'\")\n",
    "df_alabama"
   ]
  },
  {
   "cell_type": "code",
   "execution_count": null,
   "id": "cf635594",
   "metadata": {},
   "outputs": [],
   "source": [
    "# Filtro dataframe para o condado de Autauga somente\n",
    "df_alabama_autauga = dados.query(\"county == 'Autauga'\")\n",
    "df_alabama_autauga"
   ]
  },
  {
   "cell_type": "code",
   "execution_count": null,
   "id": "e94499bf",
   "metadata": {},
   "outputs": [],
   "source": [
    "#Grafico de evolução da abertura das empresas no condado\n",
    "df_alabama_autauga.plot()"
   ]
  },
  {
   "cell_type": "code",
   "execution_count": null,
   "id": "1fded848",
   "metadata": {},
   "outputs": [],
   "source": [
    "# Contagem das empresas criadas nesse condado\n",
    "def comparar_diferenca(df):\n",
    "    empresas_criadas = []\n",
    "    for i in range(len(df)-1):\n",
    "        diferenca = df.iloc[i+1]['active'] - df.iloc[i]['active']\n",
    "        if diferenca > 0:\n",
    "            empresas_criadas.append(diferenca)\n",
    "    return empresas_criadas\n",
    "\n",
    "Emp_Criadas_autauga = comparar_diferenca(df_alabama_autauga)\n",
    "total_emp_criadas = sum(Emp_Criadas_autauga)\n",
    "total_emp_criadas"
   ]
  },
  {
   "cell_type": "code",
   "execution_count": null,
   "id": "ab375573",
   "metadata": {},
   "outputs": [],
   "source": [
    "# Contagem das empresas fechadas nesse condado\n",
    "def comparar_diferenca_fechadas(df):\n",
    "    empresas_fechadas = []\n",
    "    for i in range(len(df)-1):\n",
    "        diferenca = df.iloc[i+1]['active'] - df.iloc[i]['active']\n",
    "        if diferenca < 0:\n",
    "            empresas_fechadas.append(abs(diferenca))\n",
    "    return empresas_fechadas\n",
    "\n",
    "Emp_fechadas_autauga = comparar_diferenca_fechadas(df_alabama_autauga)\n",
    "total_emp_fechadas = sum(Emp_fechadas_autauga)\n",
    "total_emp_fechadas"
   ]
  },
  {
   "cell_type": "code",
   "execution_count": null,
   "id": "c7427a6f",
   "metadata": {},
   "outputs": [],
   "source": [
    "# calculo de densidade demografica de abertura das empresas por Habitante\n",
    "população = 37\n",
    "empresas_abertas = total_emp_criadas\n",
    "area_condado = 1566\n",
    "\n",
    "densidade_demografica_abertura = empresas_abertas/area_condado\n",
    "densidade_por_habitante = densidade_demografica_abertura/população\n",
    "densidade_por_habitante"
   ]
  },
  {
   "cell_type": "code",
   "execution_count": null,
   "id": "3b7eea50",
   "metadata": {},
   "outputs": [],
   "source": [
    "# para cada 122 habitantes no condado abre-se 1 empresa\n",
    "densidade_por_habitante*122"
   ]
  },
  {
   "cell_type": "code",
   "execution_count": null,
   "id": "a5492f9a",
   "metadata": {},
   "outputs": [],
   "source": [
    "# a cada 3.3 KM² existe uma empresa aberta\n",
    "densidade_demografica_abertura*3.3"
   ]
  },
  {
   "attachments": {},
   "cell_type": "markdown",
   "id": "f98d5e9c",
   "metadata": {},
   "source": [
    "Por exemplo, se a densidade demográfica de abertura de empresas é de 0.3045977011494253 empresas/km²,\n",
    "enquanto a densidade populacional é de 37 pessoas/km², isso pode indicar que a taxa de abertura de empresas\n",
    "está relacionada à densidade populacional, ou seja,quanto maior a densidade populacional,\n",
    "maior a taxa de abertura de empresas.\n",
    "\n",
    "Esse valor pode ser utilizado para comparar a densidade demográfica de abertura de empresas em outros\n",
    "condados ou estados. Por exemplo, se outro condado tem uma densidade demográfica de abertura de empresas\n",
    "de 0.5, isso significa que esse outro condado tem uma taxa de abertura de empresas 50% maior do que \n",
    "o condado de Autauga."
   ]
  },
  {
   "cell_type": "code",
   "execution_count": null,
   "id": "c19efca5",
   "metadata": {},
   "outputs": [],
   "source": [
    "# Filtro dataframe para o estado de Nova York somente\n",
    "df_ny = dados.query(\"state == 'New York'\")\n",
    "df_ny"
   ]
  },
  {
   "cell_type": "code",
   "execution_count": null,
   "id": "20936d13",
   "metadata": {},
   "outputs": [],
   "source": [
    "# Filtro dataframe para o condado de Nova York somente\n",
    "df_ny_ny = dados.query(\"county == 'New York'\")\n",
    "df_ny_ny"
   ]
  },
  {
   "cell_type": "code",
   "execution_count": null,
   "id": "c45ef3ac",
   "metadata": {},
   "outputs": [],
   "source": [
    "#Grafico de evolução da abertura das empresas no condado de NY\n",
    "df_ny_ny.plot()"
   ]
  },
  {
   "cell_type": "code",
   "execution_count": null,
   "id": "51ef5854",
   "metadata": {},
   "outputs": [],
   "source": [
    "# Contagem das empresas criadas no condado de NY\n",
    "def comparar_diferenca(df):\n",
    "    empresas_criadas = []\n",
    "    for i in range(len(df)-1):\n",
    "        diferenca = df.iloc[i+1]['active'] - df.iloc[i]['active']\n",
    "        if diferenca > 0:\n",
    "            empresas_criadas.append(diferenca)\n",
    "    return empresas_criadas\n",
    "\n",
    "Emp_Criadas_ny = comparar_diferenca(df_ny_ny)\n",
    "total_emp_criadas_ny = sum(Emp_Criadas_ny)\n",
    "total_emp_criadas_ny"
   ]
  },
  {
   "cell_type": "code",
   "execution_count": null,
   "id": "b5d917a5",
   "metadata": {},
   "outputs": [],
   "source": [
    "# Contagem das empresas fechadas no condado de NY\n",
    "def comparar_diferenca_fechadas(df):\n",
    "    empresas_fechadas = []\n",
    "    for i in range(len(df)-1):\n",
    "        diferenca = df.iloc[i+1]['active'] - df.iloc[i]['active']\n",
    "        if diferenca < 0:\n",
    "            empresas_fechadas.append(abs(diferenca))\n",
    "    return empresas_fechadas\n",
    "\n",
    "Emp_fechadas_ny = comparar_diferenca_fechadas(df_ny_ny)\n",
    "total_emp_fechadas_ny = sum(Emp_fechadas_ny)\n",
    "total_emp_fechadas_ny"
   ]
  },
  {
   "cell_type": "code",
   "execution_count": null,
   "id": "ccb4ea82",
   "metadata": {},
   "outputs": [],
   "source": [
    "# calculo de densidade demografica de abertura das empresas por Km²\n",
    "populacao_ny = 7195 #população/m²\n",
    "empresas_abertas_ny = total_emp_criadas_ny\n",
    "area_condado_ny = 778.17 #m²\n",
    "\n",
    "densidade_demografica_abertura_ny = empresas_abertas_ny/area_condado_ny\n",
    "densidade_por_habitante_ny = densidade_demografica_abertura_ny/populacao_ny\n",
    "densidade_por_habitante_ny"
   ]
  },
  {
   "cell_type": "code",
   "execution_count": null,
   "id": "a0bd5304",
   "metadata": {},
   "outputs": [],
   "source": [
    "# a cada KM² existe 86 empresas\n",
    "densidade_demografica_abertura_ny"
   ]
  },
  {
   "cell_type": "code",
   "execution_count": null,
   "id": "3dfd0dac",
   "metadata": {},
   "outputs": [],
   "source": [
    "# para cada 83 habitantes por Km² no condado existe 1 empresa\n",
    "densidade_por_habitante_ny*83"
   ]
  }
 ],
 "metadata": {
  "kernelspec": {
   "display_name": "base",
   "language": "python",
   "name": "python3"
  },
  "language_info": {
   "codemirror_mode": {
    "name": "ipython",
    "version": 3
   },
   "file_extension": ".py",
   "mimetype": "text/x-python",
   "name": "python",
   "nbconvert_exporter": "python",
   "pygments_lexer": "ipython3",
   "version": "3.9.12"
  },
  "vscode": {
   "interpreter": {
    "hash": "263930470851f494f0ed2879c35b57985588df20f9e529b86e97dd5eb9ddc466"
   }
  }
 },
 "nbformat": 4,
 "nbformat_minor": 5
}
